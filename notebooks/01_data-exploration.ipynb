{
 "cells": [
  {
   "cell_type": "code",
   "execution_count": 6,
   "id": "0aea502f",
   "metadata": {},
   "outputs": [],
   "source": [
    "import pandas as pd \n",
    "from pathlib import Path\n",
    "\n",
    "\n",
    "from datasets import load_dataset"
   ]
  },
  {
   "cell_type": "code",
   "execution_count": 7,
   "id": "0e037ce2",
   "metadata": {},
   "outputs": [],
   "source": [
    "def get_dataset():\n",
    "    dataset = load_dataset(\"imdb\")\n",
    "    train_df = dataset['train']\n",
    "    test_df = dataset['test']\n",
    "    return pd.DataFrame(train_df), pd.DataFrame(test_df)"
   ]
  },
  {
   "cell_type": "code",
   "execution_count": 11,
   "id": "2323c982",
   "metadata": {},
   "outputs": [
    {
     "name": "stdout",
     "output_type": "stream",
     "text": [
      "Dataset saved successfully.\n"
     ]
    }
   ],
   "source": [
    "def save_dataset(df):\n",
    "    \n",
    "    curr_dir = Path().resolve()\n",
    "    home_dir = curr_dir.parent\n",
    "    train_path = home_dir / \"data\" / \"raw\"\n",
    "    test_path = home_dir / \"data\" / \"raw\"\n",
    "\n",
    "    train_path.mkdir(parents=True, exist_ok=True)\n",
    "    test_path.mkdir(parents=True, exist_ok=True)\n",
    "\n",
    "    train_df.to_csv(train_path / \"train.csv\", index=False)\n",
    "    test_df.to_csv(test_path / \"test.csv\", index=False)\n",
    "\n",
    "if __name__ == \"__main__\":\n",
    "    train_df, test_df = get_dataset()\n",
    "    save_dataset(train_df)\n",
    "    save_dataset(test_df)\n",
    "    print(\"Dataset saved successfully.\")\n",
    "    "
   ]
  },
  {
   "cell_type": "code",
   "execution_count": null,
   "id": "58734947",
   "metadata": {},
   "outputs": [],
   "source": []
  }
 ],
 "metadata": {
  "kernelspec": {
   "display_name": ".venv",
   "language": "python",
   "name": "python3"
  },
  "language_info": {
   "codemirror_mode": {
    "name": "ipython",
    "version": 3
   },
   "file_extension": ".py",
   "mimetype": "text/x-python",
   "name": "python",
   "nbconvert_exporter": "python",
   "pygments_lexer": "ipython3",
   "version": "3.11.0"
  }
 },
 "nbformat": 4,
 "nbformat_minor": 5
}
