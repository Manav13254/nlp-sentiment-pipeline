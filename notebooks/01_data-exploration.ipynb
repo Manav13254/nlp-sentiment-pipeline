{
 "cells": [
  {
   "cell_type": "code",
   "execution_count": 6,
   "id": "0aea502f",
   "metadata": {},
   "outputs": [],
   "source": [
    "import pandas as pd \n",
    "from pathlib import Path\n",
    "\n",
    "\n",
    "from datasets import load_dataset"
   ]
  },
  {
   "cell_type": "code",
   "execution_count": 7,
   "id": "0e037ce2",
   "metadata": {},
   "outputs": [],
   "source": [
    "def get_dataset():\n",
    "    dataset = load_dataset(\"imdb\")\n",
    "    train_df = dataset['train']\n",
    "    test_df = dataset['test']\n",
    "    return pd.DataFrame(train_df), pd.DataFrame(test_df)"
   ]
  },
  {
   "cell_type": "code",
   "execution_count": 11,
   "id": "2323c982",
   "metadata": {},
   "outputs": [
    {
     "name": "stdout",
     "output_type": "stream",
     "text": [
      "Dataset saved successfully.\n"
     ]
    }
   ],
   "source": [
    "def save_dataset(df):\n",
    "    \n",
    "    curr_dir = Path().resolve()\n",
    "    home_dir = curr_dir.parent\n",
    "    train_path = home_dir / \"data\" / \"raw\"\n",
    "    test_path = home_dir / \"data\" / \"raw\"\n",
    "\n",
    "    train_path.mkdir(parents=True, exist_ok=True)\n",
    "    test_path.mkdir(parents=True, exist_ok=True)\n",
    "\n",
    "    train_df.to_csv(train_path / \"train.csv\", index=False)\n",
    "    test_df.to_csv(test_path / \"test.csv\", index=False)\n",
    "\n",
    "if __name__ == \"__main__\":\n",
    "    train_df, test_df = get_dataset()\n",
    "    save_dataset(train_df)\n",
    "    save_dataset(test_df)\n",
    "    print(\"Dataset saved successfully.\")\n",
    "    "
   ]
  },
  {
   "cell_type": "markdown",
   "id": "e6f56ce8",
   "metadata": {},
   "source": [
    "EDA"
   ]
  },
  {
   "cell_type": "markdown",
   "id": "07beeddf",
   "metadata": {},
   "source": []
  },
  {
   "cell_type": "code",
   "execution_count": 14,
   "id": "a7e6efad",
   "metadata": {},
   "outputs": [
    {
     "data": {
      "text/plain": [
       "(                                                text  label\n",
       " 0  I rented I AM CURIOUS-YELLOW from my video sto...      0\n",
       " 1  \"I Am Curious: Yellow\" is a risible and preten...      0\n",
       " 2  If only to avoid making this type of film in t...      0\n",
       " 3  This film was probably inspired by Godard's Ma...      0\n",
       " 4  Oh, brother...after hearing about this ridicul...      0,\n",
       "                                                 text  label\n",
       " 0  I love sci-fi and am willing to put up with a ...      0\n",
       " 1  Worth the entertainment value of a rental, esp...      0\n",
       " 2  its a totally average film with a few semi-alr...      0\n",
       " 3  STAR RATING: ***** Saturday Night **** Friday ...      0\n",
       " 4  First off let me say, If you haven't enjoyed a...      0)"
      ]
     },
     "execution_count": 14,
     "metadata": {},
     "output_type": "execute_result"
    }
   ],
   "source": [
    "train_df.head(), test_df.head()"
   ]
  },
  {
   "cell_type": "code",
   "execution_count": 15,
   "id": "b266f039",
   "metadata": {},
   "outputs": [
    {
     "name": "stdout",
     "output_type": "stream",
     "text": [
      "<class 'pandas.core.frame.DataFrame'>\n",
      "RangeIndex: 25000 entries, 0 to 24999\n",
      "Data columns (total 2 columns):\n",
      " #   Column  Non-Null Count  Dtype \n",
      "---  ------  --------------  ----- \n",
      " 0   text    25000 non-null  object\n",
      " 1   label   25000 non-null  int64 \n",
      "dtypes: int64(1), object(1)\n",
      "memory usage: 390.8+ KB\n"
     ]
    }
   ],
   "source": [
    "train_df.info()"
   ]
  },
  {
   "cell_type": "code",
   "execution_count": 16,
   "id": "1ecd9097",
   "metadata": {},
   "outputs": [
    {
     "name": "stdout",
     "output_type": "stream",
     "text": [
      "<class 'pandas.core.frame.DataFrame'>\n",
      "RangeIndex: 25000 entries, 0 to 24999\n",
      "Data columns (total 2 columns):\n",
      " #   Column  Non-Null Count  Dtype \n",
      "---  ------  --------------  ----- \n",
      " 0   text    25000 non-null  object\n",
      " 1   label   25000 non-null  int64 \n",
      "dtypes: int64(1), object(1)\n",
      "memory usage: 390.8+ KB\n"
     ]
    }
   ],
   "source": [
    "test_df.info()"
   ]
  },
  {
   "cell_type": "code",
   "execution_count": 17,
   "id": "7c91c271",
   "metadata": {},
   "outputs": [
    {
     "name": "stdout",
     "output_type": "stream",
     "text": [
      "label\n",
      "0    12500\n",
      "1    12500\n",
      "Name: count, dtype: int64\n"
     ]
    }
   ],
   "source": [
    "print(train_df['label'].value_counts())"
   ]
  },
  {
   "cell_type": "code",
   "execution_count": 18,
   "id": "42915ba9",
   "metadata": {},
   "outputs": [
    {
     "name": "stdout",
     "output_type": "stream",
     "text": [
      "label\n",
      "0    12500\n",
      "1    12500\n",
      "Name: count, dtype: int64\n"
     ]
    }
   ],
   "source": [
    "print(test_df['label'].value_counts())"
   ]
  },
  {
   "cell_type": "code",
   "execution_count": 19,
   "id": "59247a5c",
   "metadata": {},
   "outputs": [
    {
     "name": "stdout",
     "output_type": "stream",
     "text": [
      "count    25000.00000\n",
      "mean      1325.06964\n",
      "std       1003.13367\n",
      "min         52.00000\n",
      "25%        702.00000\n",
      "50%        979.00000\n",
      "75%       1614.00000\n",
      "max      13704.00000\n",
      "Name: text_length, dtype: float64\n"
     ]
    }
   ],
   "source": [
    "train_df['text_length'] = train_df['text'].apply(len)\n",
    "print(train_df['text_length'].describe())"
   ]
  },
  {
   "cell_type": "code",
   "execution_count": 20,
   "id": "c6f04591",
   "metadata": {},
   "outputs": [
    {
     "name": "stdout",
     "output_type": "stream",
     "text": [
      "count    25000.00000\n",
      "mean      1293.79240\n",
      "std        975.90776\n",
      "min         32.00000\n",
      "25%        696.00000\n",
      "50%        962.00000\n",
      "75%       1572.00000\n",
      "max      12988.00000\n",
      "Name: text_length, dtype: float64\n"
     ]
    }
   ],
   "source": [
    "test_df['text_length'] = test_df['text'].apply(len)\n",
    "print(test_df['text_length'].describe())"
   ]
  },
  {
   "cell_type": "code",
   "execution_count": null,
   "id": "d470a0cd",
   "metadata": {},
   "outputs": [],
   "source": []
  }
 ],
 "metadata": {
  "kernelspec": {
   "display_name": ".venv",
   "language": "python",
   "name": "python3"
  },
  "language_info": {
   "codemirror_mode": {
    "name": "ipython",
    "version": 3
   },
   "file_extension": ".py",
   "mimetype": "text/x-python",
   "name": "python",
   "nbconvert_exporter": "python",
   "pygments_lexer": "ipython3",
   "version": "3.11.0"
  }
 },
 "nbformat": 4,
 "nbformat_minor": 5
}
